{
 "cells": [
  {
   "cell_type": "code",
   "execution_count": 1,
   "id": "a55af0dc",
   "metadata": {},
   "outputs": [],
   "source": [
    "import numpy as np"
   ]
  },
  {
   "cell_type": "code",
   "execution_count": 27,
   "id": "5b85fc01",
   "metadata": {},
   "outputs": [],
   "source": [
    "# calculate average absorption coeff \n",
    "# superposition of multiple component abs coeffs\n",
    "\n",
    "# data from table 3 in Jaques et al. 2013, all references tissues which are some form of brain\n",
    "# neonatal, rat, sheep, horse\n",
    "# C_{HGb} [uM]\n",
    "C_HGb = [39.7,64.7,58.2,87.3,71,65,32.9]\n",
    "# B in percent\n",
    "B = [1.17, 2.78, 2.5, 3.75, 3.05, 2.79, 1.42]\n",
    "# S in percent, not recorded -> np.nan\n",
    "S = [58.7, 70, np.nan, 60.7, 59.0, np.nan, np.nan]\n",
    "# W in percent all not recorded\n",
    "# F in percent all not recorded\n",
    "# M in percent, all zero\n",
    "M = 0\n",
    "# not known or does not matter:\n",
    "mu_a_fat, mu_a_melanosome, mu_a_water, W, F = [0]*5\n",
    "# not known: concentrations of betacarotin and bilirubin\n",
    "C_bili, eps_bili, C_betacarotin, eps_betacarotin = [0]*4\n",
    "\n",
    "mu_a_oxygenatedblood = 100 # cm-1 (figure 10)\n",
    "mu_a_deoxygenatedblood = 80 # cm-1 (figure 10)\n",
    "\n",
    "# formula 12, total absorption coefficient\n",
    "mu_a = np.nanmean(B)*1e-2 * np.nanmean(S)*1e-2 * mu_a_oxygenatedblood + np.nanmean(B)*1e-2 * (1-np.nanmean(S)*1e-2) * mu_a_deoxygenatedblood + W*1e-2 * mu_a_water \\\n",
    "     + F*1e-2 * mu_a_fat + M*1e-2 * mu_a_melanosome + 2.3 * C_bili * eps_bili + 2.3 * C_betacarotin * eps_betacarotin\n",
    "\n",
    "# average anisotropy factor g\n",
    "g = [0.78, 0.865] # measured both at around 444 nm, brain gray matter, Samatham 2012 (citation in Jacques et al 2013)\n",
    "\n",
    "# scattering coeff for brain tissue, sample size n=8\n",
    "lamda = 470 #nm\n",
    "f_Rayleigh = 0.315\n",
    "f_Rayleigh_SD = 0.368\n",
    "a = 24.2 # cm**-1\n",
    "a_SD = 11.7 # cm**-1\n",
    "b = 1.611\n",
    "b_SD = 1.063\n",
    "b_Mie = 1.087\n",
    "b_Mie_SD = 1.386\n",
    "a_ = 27.4 # cm-1\n",
    "a__SD = 10.5\n",
    "mu_s_eq1 = a * (lamda/500)**(-b) # cm-1\n",
    "mu_s_eq2 = a_ * ( f_Rayleigh * (lamda/500)**(-4)) + (1 - f_Rayleigh) * (lamda / 500)**(-b_Mie ) # cm-1"
   ]
  },
  {
   "cell_type": "code",
   "execution_count": 28,
   "id": "f8a86f87",
   "metadata": {},
   "outputs": [
    {
     "data": {
      "text/plain": [
       "2.305218857142857"
      ]
     },
     "execution_count": 28,
     "metadata": {},
     "output_type": "execute_result"
    }
   ],
   "source": [
    "mu_a # cm-1"
   ]
  },
  {
   "cell_type": "code",
   "execution_count": 5,
   "id": "30a56ba3",
   "metadata": {},
   "outputs": [
    {
     "data": {
      "text/plain": [
       "26.736613242629133"
      ]
     },
     "execution_count": 5,
     "metadata": {},
     "output_type": "execute_result"
    }
   ],
   "source": [
    "mu_s_eq1"
   ]
  },
  {
   "cell_type": "code",
   "execution_count": 6,
   "id": "56527734",
   "metadata": {},
   "outputs": [
    {
     "data": {
      "text/plain": [
       "11.787426585383306"
      ]
     },
     "execution_count": 6,
     "metadata": {},
     "output_type": "execute_result"
    }
   ],
   "source": [
    "mu_s_eq2"
   ]
  },
  {
   "cell_type": "code",
   "execution_count": 10,
   "id": "165f982d",
   "metadata": {},
   "outputs": [
    {
     "data": {
      "text/plain": [
       "0.05191563524824612"
      ]
     },
     "execution_count": 10,
     "metadata": {},
     "output_type": "execute_result"
    }
   ],
   "source": [
    "np.mean([mu_s_eq1, mu_s_eq2])**(-1) # cm"
   ]
  },
  {
   "cell_type": "code",
   "execution_count": 7,
   "id": "8ba0e41f",
   "metadata": {},
   "outputs": [
    {
     "data": {
      "text/plain": [
       "0.8225"
      ]
     },
     "execution_count": 7,
     "metadata": {},
     "output_type": "execute_result"
    }
   ],
   "source": [
    "np.mean(g)"
   ]
  },
  {
   "cell_type": "code",
   "execution_count": null,
   "id": "57c9d003",
   "metadata": {},
   "outputs": [],
   "source": [
    "discuss with Jan:\n",
    "    - which mu_s and mu_a and g did he use?\n",
    "    - wavelength difference of 3nm between LED array (470nm) and Foutz ChR2 (473nm)"
   ]
  },
  {
   "cell_type": "code",
   "execution_count": null,
   "id": "b429e01a",
   "metadata": {},
   "outputs": [],
   "source": [
    "# according to https://doi.org/10.1117/1.3495719\n",
    "\n",
    "# absorption coeff\n",
    "# gray matter 480nm\n",
    "mu_a = 0.37 # mm-1 human cortical gray matter in vivo\n",
    "# other study reported mu_a = 0.23 mm-1\n",
    "mu_s = 11 # mm-1\n",
    "g = 0.89\n",
    "n = 1.36\n",
    "mu_s_prime = 1.21 # mm-1"
   ]
  },
  {
   "cell_type": "code",
   "execution_count": 11,
   "id": "9799981f",
   "metadata": {},
   "outputs": [
    {
     "data": {
      "text/plain": [
       "0.09090909090909091"
      ]
     },
     "execution_count": 11,
     "metadata": {},
     "output_type": "execute_result"
    }
   ],
   "source": [
    "1 / 11"
   ]
  },
  {
   "cell_type": "code",
   "execution_count": 12,
   "id": "7faba045",
   "metadata": {},
   "outputs": [
    {
     "data": {
      "text/plain": [
       "0.3333333333333333"
      ]
     },
     "execution_count": 12,
     "metadata": {},
     "output_type": "execute_result"
    }
   ],
   "source": [
    "1/3"
   ]
  },
  {
   "cell_type": "code",
   "execution_count": 15,
   "id": "e94703d3",
   "metadata": {},
   "outputs": [
    {
     "data": {
      "text/plain": [
       "0.25"
      ]
     },
     "execution_count": 15,
     "metadata": {},
     "output_type": "execute_result"
    }
   ],
   "source": [
    "1/4"
   ]
  },
  {
   "cell_type": "code",
   "execution_count": 29,
   "id": "cc4fb0b8",
   "metadata": {},
   "outputs": [],
   "source": [
    "import pandas as pd"
   ]
  },
  {
   "cell_type": "code",
   "execution_count": 33,
   "id": "675c9c14",
   "metadata": {},
   "outputs": [],
   "source": [
    "angles = np.arange(0,91,7.5)\n",
    "intensities = [100, 93, 70, 54, 40, 30, 21, 15, 11, 5, 2, 0, 0]\n",
    "l_prof = pd.DataFrame(data=np.array([angles,intensities]).T, columns=['angle', 'intensity'])\n",
    "l_prof.to_csv('~/Desktop/light_profile_Soltan_et_al.csv')"
   ]
  },
  {
   "cell_type": "code",
   "execution_count": 31,
   "id": "540117be",
   "metadata": {},
   "outputs": [
    {
     "data": {
      "text/plain": [
       "array([ 0. ,  7.5, 15. , 22.5, 30. , 37.5, 45. , 52.5, 60. , 67.5, 75. ,\n",
       "       82.5, 90. ])"
      ]
     },
     "execution_count": 31,
     "metadata": {},
     "output_type": "execute_result"
    }
   ],
   "source": [
    "np.arange(0,91,7.5)"
   ]
  }
 ],
 "metadata": {
  "kernelspec": {
   "display_name": "Python 3",
   "language": "python",
   "name": "python3"
  },
  "language_info": {
   "codemirror_mode": {
    "name": "ipython",
    "version": 3
   },
   "file_extension": ".py",
   "mimetype": "text/x-python",
   "name": "python",
   "nbconvert_exporter": "python",
   "pygments_lexer": "ipython3",
   "version": "3.6.13"
  }
 },
 "nbformat": 4,
 "nbformat_minor": 5
}
